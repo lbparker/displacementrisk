{
 "cells": [
  {
   "cell_type": "code",
   "execution_count": 1,
   "metadata": {
    "collapsed": true
   },
   "outputs": [],
   "source": [
    "# Purpose: to standardize addresses of City of Philadelphia datasets\n",
    "# Author: Lauren Parker, adapted heavily from script by Amy Gottsegen (Drexel University)\n",
    "# Last Update: December 26, 2017\n",
    "# Notes: this script uses the address parser 'passyunk', developed by the City of Philadelphia and found at: \n",
    "#        https://github.com/CityOfPhiladelphia/passyunk"
   ]
  },
  {
   "cell_type": "code",
   "execution_count": 1,
   "metadata": {},
   "outputs": [
    {
     "name": "stderr",
     "output_type": "stream",
     "text": [
      "C:\\Users\\lauren.parker\\Anaconda3\\lib\\site-packages\\passyunk\\parser.py:619: UserWarning: USPS file not found.\n",
      "  warnings.warn('USPS file not found.')\n",
      "C:\\Users\\lauren.parker\\Anaconda3\\lib\\site-packages\\passyunk\\parser.py:625: UserWarning: Election file not found.\n",
      "  warnings.warn('Election file not found.')\n"
     ]
    }
   ],
   "source": [
    "# Set up workspace and import packages\n",
    "import pandas as pd\n",
    "from passyunk.parser import PassyunkParser\n",
    "from shapely.geometry import Point\n",
    "import re,json"
   ]
  },
  {
   "cell_type": "code",
   "execution_count": 2,
   "metadata": {
    "collapsed": true
   },
   "outputs": [],
   "source": [
    "import geopandas as gpd"
   ]
  },
  {
   "cell_type": "code",
   "execution_count": 3,
   "metadata": {
    "collapsed": true
   },
   "outputs": [],
   "source": [
    "# Display plots in notebook\n",
    "%matplotlib inline"
   ]
  },
  {
   "cell_type": "code",
   "execution_count": 4,
   "metadata": {
    "collapsed": true
   },
   "outputs": [],
   "source": [
    "path = \"geodata/\""
   ]
  },
  {
   "cell_type": "code",
   "execution_count": 11,
   "metadata": {},
   "outputs": [
    {
     "data": {
      "text/plain": [
       "{'address': {'addr_suffix': None,\n",
       "  'addrnum_type': 'N',\n",
       "  'fractional': None,\n",
       "  'full': '3825',\n",
       "  'high': None,\n",
       "  'high_num': None,\n",
       "  'high_num_full': None,\n",
       "  'isaddr': True,\n",
       "  'low': '3825',\n",
       "  'low_num': 3825,\n",
       "  'parity': 'O'},\n",
       " 'address_unit': {'unit_num': None, 'unit_type': None},\n",
       " 'base_address': '3825 ARCHER ST',\n",
       " 'cl_addr_match': 'A',\n",
       " 'cl_responsibility': None,\n",
       " 'cl_seg_id': '620032',\n",
       " 'election': {'blockid': None, 'precinct': None},\n",
       " 'mailing': {'bldgfirm': None,\n",
       "  'matchdesc': None,\n",
       "  'uspstype': None,\n",
       "  'zip4': None,\n",
       "  'zipcode': None},\n",
       " 'output_address': '3825 ARCHER ST',\n",
       " 'street': {'full': 'ARCHER ST',\n",
       "  'is_centerline_match': True,\n",
       "  'name': 'ARCHER',\n",
       "  'parse_method': '2ANS',\n",
       "  'postdir': None,\n",
       "  'predir': None,\n",
       "  'score': None,\n",
       "  'street_code': '13020',\n",
       "  'suffix': 'ST'},\n",
       " 'street_2': {'full': None,\n",
       "  'is_centerline_match': False,\n",
       "  'name': None,\n",
       "  'parse_method': None,\n",
       "  'postdir': None,\n",
       "  'predir': None,\n",
       "  'score': None,\n",
       "  'street_code': None,\n",
       "  'suffix': None}}"
      ]
     },
     "execution_count": 11,
     "metadata": {},
     "output_type": "execute_result"
    }
   ],
   "source": [
    "# Test passyunk address parser\n",
    "p = PassyunkParser()\n",
    "#components = p.parse('1234 MARKET ST')\n",
    "address_components = p.parse('3825 ARCHER ST, PHILADELPHIA, PA')['components'] #returns dictionary of address components\n",
    "#standardized_address = components['street_address']\n",
    "address_components"
   ]
  },
  {
   "cell_type": "code",
   "execution_count": 12,
   "metadata": {
    "collapsed": true
   },
   "outputs": [],
   "source": [
    "def initializeGeoDataFrame(resolution):\n",
    "    p = path + {\n",
    "        \"parcel\":\"parcels/DOR_Parcel_WGS84.shp\", \n",
    "        \"blockgroup\": \"block_groups/Phila_BlockGroups_WGS84.shp\",\n",
    "        \"street\":\"streets/Street_Centerline_WGS84.shp\",\n",
    "        \"neighborhood\":\"neighborhoods/Neighborhoods_Phila_WGS84.shp\",\n",
    "        \"zipcode\":\"zipcodes/Phila_ZCTA_WGS84.shp\"\n",
    "    }[resolution]\n",
    "    gdf = gpd.read_file(p)\n",
    "    return gdf.to_crs({'init': 'epsg:4326'}) # Sets coordinate system to WGS84"
   ]
  },
  {
   "cell_type": "code",
   "execution_count": 13,
   "metadata": {
    "collapsed": true
   },
   "outputs": [],
   "source": [
    "def geocodeWithOPA(data):\n",
    "    opa = pd.read_csv('parcel_level/opa_properties_public_11072017.csv',encoding='utf-8')"
   ]
  },
  {
   "cell_type": "code",
   "execution_count": 14,
   "metadata": {
    "collapsed": true
   },
   "outputs": [],
   "source": [
    "def parseAddresses(location,zipcode):\n",
    "    #if type(location) is not unicode: \n",
    "    #LP: in Py3, all strings are unicode, so not necessary? http://www.pgbovine.net/unicode-python.htm\n",
    "    #    return\n",
    "    features={} # set empty dictionary\n",
    "    \n",
    "    if type(location) is str:\n",
    "        location = location.upper() #LP changed this bc: getting error that \n",
    "                                    #'float has no attribute upper', but data type is object (string)?\n",
    "    \n",
    "    #NEIGHBORHOOD\n",
    "    try:\n",
    "        features['neighborhood'] = []\n",
    "        f = json.load(open('neighborhood_list.json','r'))\n",
    "    except Exception as e:\n",
    "        print(e)\n",
    "        \n",
    "    if f:\n",
    "        neighborhoods = sorted(f['neighborhoods'],key=lambda x:len(x),reverse=True)\n",
    "        for n in neighborhoods:\n",
    "            if n in location:\n",
    "                features['neighborhood'].append(n)\n",
    "                location = location.replace(n,'')\n",
    "    p = PassyunkParser()\n",
    "    components = p.parse(location)['components']\n",
    "    \n",
    "    #ADDRESS\n",
    "    if components['address']['isaddr']:\n",
    "        features['address']= components['base_address']\n",
    "    \n",
    "    #BLOCK    \n",
    "    blocksplit = re.split('\\d+[Xx]+',location)\n",
    "    if len(blocksplit) > 1:\n",
    "        street = blocksplit[1]\n",
    "        block = re.search('\\d+X+',location).group(0).replace('X','0')\n",
    "        features['block'] = block + street\n",
    "    \n",
    "    #STREET\n",
    "    if components['street']['is_centerline_match']:\n",
    "        features['street'] = components['street']['full']\n",
    "    \n",
    "    #INTERSECTION\n",
    "    if components['street_2']['is_centerline_match']:\n",
    "        features['street_2'] = components['street_2']['full']\n",
    "        \n",
    "    #and if all else fails... ZIPCODE\n",
    "    features['zipcode'] = zipcode\n",
    "    return features"
   ]
  },
  {
   "cell_type": "code",
   "execution_count": 15,
   "metadata": {
    "collapsed": true
   },
   "outputs": [],
   "source": [
    "def getNeighborhood(gdf, data):\n",
    "    return gpd.sjoin(data,gdf[['NAME','geometry']],how=\"left\",op=\"within\")"
   ]
  },
  {
   "cell_type": "code",
   "execution_count": 16,
   "metadata": {
    "collapsed": true
   },
   "outputs": [],
   "source": [
    "def readData(path_std):\n",
    "    df = pd.read_csv(path_std,usecols=['objectid','lat','lng'])\n",
    "    df = df.loc[~df['lat'].isnull()]\n",
    "    geometry = [Point(xy) for xy in zip(df.lng, df.lat)]\n",
    "    df = df.drop(['lng', 'lat'], axis=1)\n",
    "    crs = {'init': 'epsg:4326'}\n",
    "    return gpd.GeoDataFrame(df, crs=crs, geometry=geometry)"
   ]
  },
  {
   "cell_type": "code",
   "execution_count": 17,
   "metadata": {
    "collapsed": true
   },
   "outputs": [],
   "source": [
    "gdf = initializeGeoDataFrame('neighborhood')\n",
    "data = readData('parcel_level/permits/li_permits.csv')"
   ]
  },
  {
   "cell_type": "code",
   "execution_count": null,
   "metadata": {
    "collapsed": true
   },
   "outputs": [],
   "source": [
    "crosswalk = getNeighborhood(gdf,data)\n",
    "crosswalk.head()"
   ]
  },
  {
   "cell_type": "code",
   "execution_count": null,
   "metadata": {
    "collapsed": true
   },
   "outputs": [],
   "source": [
    "crosswalk['NAME'].value_counts()"
   ]
  },
  {
   "cell_type": "markdown",
   "metadata": {
    "collapsed": true
   },
   "source": [
    "# Test code"
   ]
  },
  {
   "cell_type": "code",
   "execution_count": 18,
   "metadata": {},
   "outputs": [
    {
     "data": {
      "text/plain": [
       "id                     int64\n",
       "docketnum             object\n",
       "sought               float64\n",
       "address               object\n",
       "type                  object\n",
       "status                object\n",
       "court                 object\n",
       "jury                  object\n",
       "caption               object\n",
       "date_filed            object\n",
       "year_filed             int64\n",
       "month_filed            int64\n",
       "last_docket_entry     object\n",
       "rulereturn            object\n",
       "rulereturn_day        object\n",
       "sheriff_deed          object\n",
       "propcat               object\n",
       "homestead             object\n",
       "zip                  float64\n",
       "latitude             float64\n",
       "longitude            float64\n",
       "latlong               object\n",
       "dtype: object"
      ]
     },
     "execution_count": 18,
     "metadata": {},
     "output_type": "execute_result"
    }
   ],
   "source": [
    "df = pd.read_csv('parcel_level/foreclosures/tax_filings_full_list_11012016.csv')\n",
    "df.dtypes # object data types are strings (but could include other types like factors)"
   ]
  },
  {
   "cell_type": "code",
   "execution_count": 19,
   "metadata": {},
   "outputs": [
    {
     "data": {
      "text/plain": [
       "0        31\n",
       "1        29\n",
       "2        32\n",
       "3        32\n",
       "4        35\n",
       "5        32\n",
       "6        35\n",
       "7        32\n",
       "8        32\n",
       "9        32\n",
       "10       36\n",
       "11       31\n",
       "12       35\n",
       "13       32\n",
       "14       32\n",
       "15       32\n",
       "16       37\n",
       "17       32\n",
       "18       34\n",
       "19       33\n",
       "20        3\n",
       "21       27\n",
       "22       32\n",
       "23       31\n",
       "24       33\n",
       "25       34\n",
       "26       33\n",
       "27       30\n",
       "28       32\n",
       "29       34\n",
       "         ..\n",
       "59241     3\n",
       "59242     3\n",
       "59243     3\n",
       "59244     3\n",
       "59245     3\n",
       "59246     3\n",
       "59247     3\n",
       "59248     3\n",
       "59249     3\n",
       "59250     3\n",
       "59251     3\n",
       "59252     3\n",
       "59253     3\n",
       "59254     3\n",
       "59255     3\n",
       "59256     3\n",
       "59257     3\n",
       "59258     3\n",
       "59259     3\n",
       "59260     3\n",
       "59261     3\n",
       "59262     3\n",
       "59263     3\n",
       "59264     3\n",
       "59265     3\n",
       "59266     3\n",
       "59267     3\n",
       "59268     3\n",
       "59269     3\n",
       "59270     3\n",
       "Name: address, Length: 59271, dtype: int64"
      ]
     },
     "execution_count": 19,
     "metadata": {},
     "output_type": "execute_result"
    }
   ],
   "source": [
    "# Convert all address records to strings\n",
    "df['address'] = df['address'].astype(str) #convert to string\n",
    "df['address'].apply(lambda x: len(x)) #check length to make sure all are strings (vs. float which doesn't have a length)\n",
    "#df.dtypes #check types"
   ]
  },
  {
   "cell_type": "code",
   "execution_count": 28,
   "metadata": {},
   "outputs": [
    {
     "data": {
      "text/plain": [
       "0        {'neighborhood': [], 'address': '329 BUDD ST',...\n",
       "1        {'neighborhood': [], 'address': '2930 KIP ST',...\n",
       "2        {'neighborhood': [], 'address': '5356 MORRIS S...\n",
       "3        {'neighborhood': [], 'address': '1656 N 59TH S...\n",
       "4        {'neighborhood': [], 'address': '450 DEARBORN ...\n",
       "5        {'neighborhood': [], 'address': '348 E ARMAT S...\n",
       "6        {'neighborhood': [], 'address': '212 E INDIANA...\n",
       "7        {'neighborhood': [], 'address': '3215 N 13TH S...\n",
       "8        {'neighborhood': [], 'address': '5735 OSAGE AV...\n",
       "9        {'neighborhood': [], 'address': '1619 N 55TH S...\n",
       "10       {'neighborhood': [], 'address': '2430 W SEDGLE...\n",
       "11       {'neighborhood': [], 'address': '2526 CORAL ST...\n",
       "12       {'neighborhood': [], 'address': '4534 N BOUVIE...\n",
       "13       {'neighborhood': [], 'address': '3820 N 18TH S...\n",
       "14       {'neighborhood': [], 'address': '2143 RIDGE AV...\n",
       "15       {'neighborhood': [], 'address': '5725 CEDAR AV...\n",
       "16       {'neighborhood': [], 'address': '3525 KENSINGT...\n",
       "17       {'neighborhood': [], 'address': '2512 N 27TH S...\n",
       "18       {'neighborhood': [], 'address': '1139 S WILTON...\n",
       "19       {'neighborhood': [], 'address': '2954 N HICKS ...\n",
       "20                      {'neighborhood': [], 'zipcode': 0}\n",
       "21       {'neighborhood': [], 'address': '4941 B ST', '...\n",
       "22       {'neighborhood': [], 'address': '3105 N 13TH S...\n",
       "23       {'neighborhood': [], 'address': '5117 VIOLA ST...\n",
       "24       {'neighborhood': [], 'address': '4833 PARRISH ...\n",
       "25       {'neighborhood': [], 'address': '2070 PICKWICK...\n",
       "26       {'neighborhood': [], 'address': '1607 S ITHAN ...\n",
       "27       {'neighborhood': [], 'address': '5800 KNOX ST'...\n",
       "28       {'neighborhood': [], 'address': '5542 LOCUST S...\n",
       "29       {'neighborhood': [], 'address': '1925 WATERLOO...\n",
       "                               ...                        \n",
       "59241                   {'neighborhood': [], 'zipcode': 0}\n",
       "59242                   {'neighborhood': [], 'zipcode': 0}\n",
       "59243                   {'neighborhood': [], 'zipcode': 0}\n",
       "59244                   {'neighborhood': [], 'zipcode': 0}\n",
       "59245                   {'neighborhood': [], 'zipcode': 0}\n",
       "59246                   {'neighborhood': [], 'zipcode': 0}\n",
       "59247                   {'neighborhood': [], 'zipcode': 0}\n",
       "59248                   {'neighborhood': [], 'zipcode': 0}\n",
       "59249                   {'neighborhood': [], 'zipcode': 0}\n",
       "59250                   {'neighborhood': [], 'zipcode': 0}\n",
       "59251                   {'neighborhood': [], 'zipcode': 0}\n",
       "59252                   {'neighborhood': [], 'zipcode': 0}\n",
       "59253                   {'neighborhood': [], 'zipcode': 0}\n",
       "59254                   {'neighborhood': [], 'zipcode': 0}\n",
       "59255                   {'neighborhood': [], 'zipcode': 0}\n",
       "59256                   {'neighborhood': [], 'zipcode': 0}\n",
       "59257                   {'neighborhood': [], 'zipcode': 0}\n",
       "59258                   {'neighborhood': [], 'zipcode': 0}\n",
       "59259                   {'neighborhood': [], 'zipcode': 0}\n",
       "59260                   {'neighborhood': [], 'zipcode': 0}\n",
       "59261                   {'neighborhood': [], 'zipcode': 0}\n",
       "59262                   {'neighborhood': [], 'zipcode': 0}\n",
       "59263                   {'neighborhood': [], 'zipcode': 0}\n",
       "59264                   {'neighborhood': [], 'zipcode': 0}\n",
       "59265                   {'neighborhood': [], 'zipcode': 0}\n",
       "59266                   {'neighborhood': [], 'zipcode': 0}\n",
       "59267                   {'neighborhood': [], 'zipcode': 0}\n",
       "59268                   {'neighborhood': [], 'zipcode': 0}\n",
       "59269                   {'neighborhood': [], 'zipcode': 0}\n",
       "59270                   {'neighborhood': [], 'zipcode': 0}\n",
       "Name: address, Length: 59271, dtype: object"
      ]
     },
     "execution_count": 28,
     "metadata": {},
     "output_type": "execute_result"
    }
   ],
   "source": [
    "# Parse addresses\n",
    "addr_dict = df['address'].apply(lambda x: parseAddresses(x,0))\n",
    "addr_dict"
   ]
  },
  {
   "cell_type": "code",
   "execution_count": 36,
   "metadata": {},
   "outputs": [],
   "source": [
    "# Add standardized address to data frame as columns\n",
    "#df2 = pd.DataFrame(list(addr_dict.items()), columns=['neighborhood', 'location'])\n",
    "#df2 = pd.DataFrame(addr_dict)\n",
    "#df2 = pd.Series(addr_dict, name='address')"
   ]
  },
  {
   "cell_type": "code",
   "execution_count": 37,
   "metadata": {},
   "outputs": [
    {
     "data": {
      "text/plain": [
       "0    {'neighborhood': [], 'address': '329 BUDD ST',...\n",
       "1    {'neighborhood': [], 'address': '2930 KIP ST',...\n",
       "2    {'neighborhood': [], 'address': '5356 MORRIS S...\n",
       "3    {'neighborhood': [], 'address': '1656 N 59TH S...\n",
       "4    {'neighborhood': [], 'address': '450 DEARBORN ...\n",
       "Name: address, dtype: object"
      ]
     },
     "execution_count": 37,
     "metadata": {},
     "output_type": "execute_result"
    }
   ],
   "source": [
    "df2.head()"
   ]
  }
 ],
 "metadata": {
  "anaconda-cloud": {},
  "kernelspec": {
   "display_name": "Python 3",
   "language": "python",
   "name": "python3"
  },
  "language_info": {
   "codemirror_mode": {
    "name": "ipython",
    "version": 3
   },
   "file_extension": ".py",
   "mimetype": "text/x-python",
   "name": "python",
   "nbconvert_exporter": "python",
   "pygments_lexer": "ipython3",
   "version": "3.6.3"
  }
 },
 "nbformat": 4,
 "nbformat_minor": 1
}
